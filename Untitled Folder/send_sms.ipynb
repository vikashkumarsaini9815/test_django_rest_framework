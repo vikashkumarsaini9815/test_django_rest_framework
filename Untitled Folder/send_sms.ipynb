{
 "cells": [
  {
   "cell_type": "code",
   "execution_count": 1,
   "metadata": {},
   "outputs": [
    {
     "name": "stdout",
     "output_type": "stream",
     "text": [
      "{\"return\":true,\"request_id\":\"filncv9ar8bq3gs\",\"message\":[\"SMS sent successfully.\"]}\n"
     ]
    }
   ],
   "source": [
    "import requests\n",
    "\n",
    "url = \"https://www.fast2sms.com/dev/bulkV2\"\n",
    "\n",
    "querystring = {\"authorization\":\"viXux8DorwPIEd1fv3JU1YF8Yn5zaOqK97IJ4fPDmHkzAOtNyhDbmM4CgjuR\",\"variables_values\":\"5858\",\"route\":\"otp\",\"numbers\":\"9082664066\"}\n",
    "\n",
    "headers = {\n",
    "    'cache-control': \"no-cache\"\n",
    "}\n",
    "\n",
    "response = requests.request(\"GET\", url, headers=headers, params=querystring)\n",
    "\n",
    "print(response.text)"
   ]
  },
  {
   "cell_type": "code",
   "execution_count": null,
   "metadata": {},
   "outputs": [],
   "source": []
  }
 ],
 "metadata": {
  "kernelspec": {
   "display_name": "Python 3",
   "language": "python",
   "name": "python3"
  },
  "language_info": {
   "codemirror_mode": {
    "name": "ipython",
    "version": 3
   },
   "file_extension": ".py",
   "mimetype": "text/x-python",
   "name": "python",
   "nbconvert_exporter": "python",
   "pygments_lexer": "ipython3",
   "version": "3.8.5"
  }
 },
 "nbformat": 4,
 "nbformat_minor": 4
}
